{
 "cells": [
  {
   "cell_type": "code",
   "execution_count": 1,
   "metadata": {},
   "outputs": [],
   "source": [
    "import pandas as pd\n",
    "import numpy as np\n",
    "import re\n",
    "import nltk\n",
    "from nltk.corpus import stopwords\n",
    "from nltk.stem import WordNetLemmatizer\n",
    "from nltk.tokenize import word_tokenize\n",
    "from datetime import datetime\n",
    "from dateutil.parser import parse\n",
    "from dateutil import tz\n",
    "import warnings\n",
    "\n",
    "#nltk.download(\"stopwords\")\n",
    "#nltk.download(\"wordnet\")\n",
    "\n"
   ]
  },
  {
   "cell_type": "code",
   "execution_count": 2,
   "metadata": {},
   "outputs": [],
   "source": [
    "data_maddow = pd.read_csv('data/Maddow_transcripts.tsv',sep='\\t').drop(columns='Unnamed: 0')\n",
    "data_carlson = pd.read_csv('data/Tucker_transcripts.tsv',sep='\\t').drop(columns='Unnamed: 0')\n"
   ]
  },
  {
   "cell_type": "markdown",
   "metadata": {},
   "source": [
    "### Stop word removal "
   ]
  },
  {
   "cell_type": "code",
   "execution_count": 3,
   "metadata": {},
   "outputs": [],
   "source": [
    "# remove stop words \n",
    "\n",
    "def remove_stopwords(text, stop_word_list = []):\n",
    "    # first ensure stop words are lower cased \n",
    "    stop_word_list = [s.lower() for s in stop_word_list]\n",
    "    \n",
    "    # append any new stop words if they exist\n",
    "    if len(stop_word_list) == 0: \n",
    "        stop_words = set(stopwords.words(\"english\"))\n",
    "    else: \n",
    "        stop_words = set(stopwords.words(\"english\"))\n",
    "        stop_words.update(stop_word_list)\n",
    "        \n",
    "    words = re.findall(r'\\b\\w+\\b', text)\n",
    "    words_without_stopwords = [word.lower() for word in words if word.lower() not in stop_words]\n",
    "    return \" \".join(words_without_stopwords)"
   ]
  },
  {
   "cell_type": "code",
   "execution_count": 4,
   "metadata": {},
   "outputs": [],
   "source": [
    "stop_words_to_add  = ['from', 'tucker', 'carlson', 'fox', 'news', 'channel', 'host', 'evening', 'welcome', \n",
    "                   'tonight','like','kind','people','know','knew','knowing','tonight','go','goes','going',\n",
    "                   'went','tell','told','telling','say','said','saying','talk','talked','talking','year',\n",
    "                   'think','thinking','thought','happen','happening','happened','thing','time','right', \n",
    "                   'country', 'countries','america', 'american', 'want','state','work','working','worked',\n",
    "                   'point','call','calling', 'called', 'actual','actually','year','years','live','living',\n",
    "                   'rachel','maddow', 'today', 'first', 'one', 'us', 'would', 'get', 'new', 'years', 'way', \n",
    "                   'well', 'even', 'velshi','also','see','21','course','lot', 'really', 'could','fact', \n",
    "                   'last', 'never', 'thank', 'u', 'got', 'much', 'many', 'video', 'may', 'back', 'quote',\n",
    "                   'day', 'one','well','would','even','got','way','united','states','us','every','really',\n",
    "                   'lot','last','could', 'end', 'make', 'exactly', 'something']"
   ]
  },
  {
   "cell_type": "code",
   "execution_count": 5,
   "metadata": {},
   "outputs": [],
   "source": [
    "data_maddow['stop words removed'] = [remove_stopwords(text, stop_words_to_add) for text in data_maddow.transcript]\n",
    "data_carlson['stop words removed'] = [remove_stopwords(text, stop_words_to_add) for text in data_carlson.transcript]"
   ]
  },
  {
   "cell_type": "markdown",
   "metadata": {},
   "source": [
    "### Lemmatization"
   ]
  },
  {
   "cell_type": "code",
   "execution_count": 6,
   "metadata": {},
   "outputs": [],
   "source": [
    "def lemmatize_text(text):\n",
    "    lemmatizer = WordNetLemmatizer()\n",
    "    tokens = word_tokenize(text)\n",
    "    lemmatized_words = [lemmatizer.lemmatize(word) for word in tokens]\n",
    "    return \" \".join(lemmatized_words)"
   ]
  },
  {
   "cell_type": "code",
   "execution_count": 7,
   "metadata": {},
   "outputs": [],
   "source": [
    "data_maddow['stop words and lemmatization'] = [lemmatize_text(text) for text in data_maddow['stop words removed']]\n",
    "data_carlson['stop words and lemmatization'] = [lemmatize_text(text) for text in data_carlson['stop words removed']]"
   ]
  },
  {
   "cell_type": "markdown",
   "metadata": {},
   "source": [
    "### Converting to Datetime "
   ]
  },
  {
   "cell_type": "code",
   "execution_count": 8,
   "metadata": {},
   "outputs": [],
   "source": [
    "# removing any extra dates/characters due to the 'updated' timestamp on some transcripts\n",
    "def keep_first_datetime(datetime_str):\n",
    "    first_part = datetime_str.split(\"/\")[0]\n",
    "    return first_part.strip()"
   ]
  },
  {
   "cell_type": "code",
   "execution_count": 9,
   "metadata": {},
   "outputs": [],
   "source": [
    "# convert timestamp to datetime object\n",
    "\n",
    "def string_to_datetime(datetime_str):\n",
    "    est_tz = tz.gettz('EST')\n",
    "    datetime_obj = parse(datetime_str, fuzzy=True, tzinfos={ 'EST': est_tz })\n",
    "    return datetime_obj\n",
    "    "
   ]
  },
  {
   "cell_type": "code",
   "execution_count": 10,
   "metadata": {},
   "outputs": [],
   "source": [
    "data_maddow.timestamp = [keep_first_datetime(timestamp) for timestamp in data_maddow.timestamp]\n",
    "data_carlson.timestamp = [keep_first_datetime(timestamp) for timestamp in data_carlson.timestamp]"
   ]
  },
  {
   "cell_type": "code",
   "execution_count": 11,
   "metadata": {},
   "outputs": [],
   "source": [
    "warnings.filterwarnings(\"ignore\", category=UserWarning, module=\"dateutil\")\n",
    "\n",
    "data_maddow.timestamp = [string_to_datetime(timestamp) for timestamp in data_maddow.timestamp]\n",
    "data_carlson.timestamp = [string_to_datetime(timestamp) for timestamp in data_carlson.timestamp]"
   ]
  },
  {
   "cell_type": "markdown",
   "metadata": {},
   "source": [
    "### Eliminate timezone from maddow timestamps"
   ]
  },
  {
   "cell_type": "code",
   "execution_count": 12,
   "metadata": {},
   "outputs": [],
   "source": [
    "data_maddow['timestamp'] = data_maddow['timestamp'].dt.tz_convert(None)"
   ]
  },
  {
   "cell_type": "markdown",
   "metadata": {},
   "source": [
    "### Export tsv files"
   ]
  },
  {
   "cell_type": "code",
   "execution_count": 13,
   "metadata": {},
   "outputs": [],
   "source": [
    "data_maddow.to_csv('data/Maddow_cleaned.tsv', sep=\"\\t\")\n",
    "data_carlson.to_csv('data/Carlson_cleaned.tsv', sep=\"\\t\")"
   ]
  },
  {
   "cell_type": "code",
   "execution_count": null,
   "metadata": {},
   "outputs": [],
   "source": []
  },
  {
   "cell_type": "code",
   "execution_count": null,
   "metadata": {},
   "outputs": [],
   "source": []
  }
 ],
 "metadata": {
  "kernelspec": {
   "display_name": "Python 3 (ipykernel)",
   "language": "python",
   "name": "python3"
  },
  "language_info": {
   "codemirror_mode": {
    "name": "ipython",
    "version": 3
   },
   "file_extension": ".py",
   "mimetype": "text/x-python",
   "name": "python",
   "nbconvert_exporter": "python",
   "pygments_lexer": "ipython3",
   "version": "3.10.4"
  }
 },
 "nbformat": 4,
 "nbformat_minor": 4
}
